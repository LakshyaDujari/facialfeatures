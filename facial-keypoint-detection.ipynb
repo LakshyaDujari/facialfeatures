{
 "cells": [
  {
   "cell_type": "code",
   "execution_count": 2,
   "id": "a3ea3575",
   "metadata": {
    "_cell_guid": "b1076dfc-b9ad-4769-8c92-a6c4dae69d19",
    "_uuid": "8f2839f25d086af736a60e9eeb907d3b93b6e0e5",
    "execution": {
     "iopub.execute_input": "2024-01-31T05:16:09.144124Z",
     "iopub.status.busy": "2024-01-31T05:16:09.143724Z",
     "iopub.status.idle": "2024-01-31T05:16:28.296697Z",
     "shell.execute_reply": "2024-01-31T05:16:28.294993Z"
    },
    "papermill": {
     "duration": 19.162351,
     "end_time": "2024-01-31T05:16:28.299051",
     "exception": false,
     "start_time": "2024-01-31T05:16:09.136700",
     "status": "completed"
    },
    "tags": []
   },
   "outputs": [
    {
     "ename": "FileNotFoundError",
     "evalue": "[Errno 2] No such file or directory: '/kaggle/input/facial-keypoints-detection/training.zip'",
     "output_type": "error",
     "traceback": [
      "\u001b[0;31m---------------------------------------------------------------------------\u001b[0m",
      "\u001b[0;31mFileNotFoundError\u001b[0m                         Traceback (most recent call last)",
      "Cell \u001b[0;32mIn[2], line 12\u001b[0m\n\u001b[1;32m      9\u001b[0m \u001b[38;5;28;01mimport\u001b[39;00m \u001b[38;5;21;01mzipfile\u001b[39;00m\n\u001b[1;32m     11\u001b[0m \u001b[38;5;66;03m# Unzip the training data\u001b[39;00m\n\u001b[0;32m---> 12\u001b[0m \u001b[38;5;28;01mwith\u001b[39;00m zipfile\u001b[38;5;241m.\u001b[39mZipFile(\u001b[38;5;124m\"\u001b[39m\u001b[38;5;124m/kaggle/input/facial-keypoints-detection/training.zip\u001b[39m\u001b[38;5;124m\"\u001b[39m, \u001b[38;5;124m\"\u001b[39m\u001b[38;5;124mr\u001b[39m\u001b[38;5;124m\"\u001b[39m) \u001b[38;5;28;01mas\u001b[39;00m zip_ref:\n\u001b[1;32m     13\u001b[0m     zip_ref\u001b[38;5;241m.\u001b[39mextractall(\u001b[38;5;124m\"\u001b[39m\u001b[38;5;124m/kaggle/working/training_data\u001b[39m\u001b[38;5;124m\"\u001b[39m)\n\u001b[1;32m     15\u001b[0m \u001b[38;5;66;03m# Unzip the test data\u001b[39;00m\n",
      "File \u001b[0;32m~/anaconda3/lib/python3.11/zipfile.py:1284\u001b[0m, in \u001b[0;36mZipFile.__init__\u001b[0;34m(self, file, mode, compression, allowZip64, compresslevel, strict_timestamps, metadata_encoding)\u001b[0m\n\u001b[1;32m   1282\u001b[0m \u001b[38;5;28;01mwhile\u001b[39;00m \u001b[38;5;28;01mTrue\u001b[39;00m:\n\u001b[1;32m   1283\u001b[0m     \u001b[38;5;28;01mtry\u001b[39;00m:\n\u001b[0;32m-> 1284\u001b[0m         \u001b[38;5;28mself\u001b[39m\u001b[38;5;241m.\u001b[39mfp \u001b[38;5;241m=\u001b[39m io\u001b[38;5;241m.\u001b[39mopen(file, filemode)\n\u001b[1;32m   1285\u001b[0m     \u001b[38;5;28;01mexcept\u001b[39;00m \u001b[38;5;167;01mOSError\u001b[39;00m:\n\u001b[1;32m   1286\u001b[0m         \u001b[38;5;28;01mif\u001b[39;00m filemode \u001b[38;5;129;01min\u001b[39;00m modeDict:\n",
      "\u001b[0;31mFileNotFoundError\u001b[0m: [Errno 2] No such file or directory: '/kaggle/input/facial-keypoints-detection/training.zip'"
     ]
    }
   ],
   "source": [
    "import pandas as pd\n",
    "import numpy as np\n",
    "import tensorflow as tf\n",
    "from tensorflow import keras\n",
    "from keras.layers import Conv2D, MaxPooling2D, Flatten, Dropout, Dense, BatchNormalization\n",
    "from keras.models import Sequential\n",
    "from keras.optimizers import Adam\n",
    "from keras.losses import MeanSquaredError\n",
    "import zipfile\n",
    "\n",
    "# Unzip the training data\n",
    "with zipfile.ZipFile(\"/kaggle/input/facial-keypoints-detection/training.zip\", \"r\") as zip_ref:\n",
    "    zip_ref.extractall(\"/kaggle/working/training_data\")\n",
    "\n",
    "# Unzip the test data\n",
    "with zipfile.ZipFile(\"/kaggle/input/facial-keypoints-detection/test.zip\", \"r\") as zip_ref:\n",
    "    zip_ref.extractall(\"/kaggle/working/test_data\")\n",
    "\n",
    "# Read the training and test data into Pandas DataFrames\n",
    "train = pd.read_csv('/kaggle/working/training_data/training.csv')\n",
    "test = pd.read_csv('/kaggle/working/test_data/test.csv')\n",
    "id = pd.read_csv('/kaggle/input/facial-keypoints-detection/IdLookupTable.csv')\n"
   ]
  },
  {
   "cell_type": "code",
   "execution_count": 2,
   "id": "5506f9b5",
   "metadata": {
    "execution": {
     "iopub.execute_input": "2024-01-31T05:16:28.309819Z",
     "iopub.status.busy": "2024-01-31T05:16:28.309505Z",
     "iopub.status.idle": "2024-01-31T05:16:28.344103Z",
     "shell.execute_reply": "2024-01-31T05:16:28.342937Z"
    },
    "papermill": {
     "duration": 0.042833,
     "end_time": "2024-01-31T05:16:28.346725",
     "exception": false,
     "start_time": "2024-01-31T05:16:28.303892",
     "status": "completed"
    },
    "tags": []
   },
   "outputs": [
    {
     "data": {
      "text/html": [
       "<div>\n",
       "<style scoped>\n",
       "    .dataframe tbody tr th:only-of-type {\n",
       "        vertical-align: middle;\n",
       "    }\n",
       "\n",
       "    .dataframe tbody tr th {\n",
       "        vertical-align: top;\n",
       "    }\n",
       "\n",
       "    .dataframe thead th {\n",
       "        text-align: right;\n",
       "    }\n",
       "</style>\n",
       "<table border=\"1\" class=\"dataframe\">\n",
       "  <thead>\n",
       "    <tr style=\"text-align: right;\">\n",
       "      <th></th>\n",
       "      <th>left_eye_center_x</th>\n",
       "      <th>left_eye_center_y</th>\n",
       "      <th>right_eye_center_x</th>\n",
       "      <th>right_eye_center_y</th>\n",
       "      <th>left_eye_inner_corner_x</th>\n",
       "      <th>left_eye_inner_corner_y</th>\n",
       "      <th>left_eye_outer_corner_x</th>\n",
       "      <th>left_eye_outer_corner_y</th>\n",
       "      <th>right_eye_inner_corner_x</th>\n",
       "      <th>right_eye_inner_corner_y</th>\n",
       "      <th>...</th>\n",
       "      <th>nose_tip_y</th>\n",
       "      <th>mouth_left_corner_x</th>\n",
       "      <th>mouth_left_corner_y</th>\n",
       "      <th>mouth_right_corner_x</th>\n",
       "      <th>mouth_right_corner_y</th>\n",
       "      <th>mouth_center_top_lip_x</th>\n",
       "      <th>mouth_center_top_lip_y</th>\n",
       "      <th>mouth_center_bottom_lip_x</th>\n",
       "      <th>mouth_center_bottom_lip_y</th>\n",
       "      <th>Image</th>\n",
       "    </tr>\n",
       "  </thead>\n",
       "  <tbody>\n",
       "    <tr>\n",
       "      <th>0</th>\n",
       "      <td>66.033564</td>\n",
       "      <td>39.002274</td>\n",
       "      <td>30.227008</td>\n",
       "      <td>36.421678</td>\n",
       "      <td>59.582075</td>\n",
       "      <td>39.647423</td>\n",
       "      <td>73.130346</td>\n",
       "      <td>39.969997</td>\n",
       "      <td>36.356571</td>\n",
       "      <td>37.389402</td>\n",
       "      <td>...</td>\n",
       "      <td>57.066803</td>\n",
       "      <td>61.195308</td>\n",
       "      <td>79.970165</td>\n",
       "      <td>28.614496</td>\n",
       "      <td>77.388992</td>\n",
       "      <td>43.312602</td>\n",
       "      <td>72.935459</td>\n",
       "      <td>43.130707</td>\n",
       "      <td>84.485774</td>\n",
       "      <td>238 236 237 238 240 240 239 241 241 243 240 23...</td>\n",
       "    </tr>\n",
       "    <tr>\n",
       "      <th>1</th>\n",
       "      <td>64.332936</td>\n",
       "      <td>34.970077</td>\n",
       "      <td>29.949277</td>\n",
       "      <td>33.448715</td>\n",
       "      <td>58.856170</td>\n",
       "      <td>35.274349</td>\n",
       "      <td>70.722723</td>\n",
       "      <td>36.187166</td>\n",
       "      <td>36.034723</td>\n",
       "      <td>34.361532</td>\n",
       "      <td>...</td>\n",
       "      <td>55.660936</td>\n",
       "      <td>56.421447</td>\n",
       "      <td>76.352000</td>\n",
       "      <td>35.122383</td>\n",
       "      <td>76.047660</td>\n",
       "      <td>46.684596</td>\n",
       "      <td>70.266553</td>\n",
       "      <td>45.467915</td>\n",
       "      <td>85.480170</td>\n",
       "      <td>219 215 204 196 204 211 212 200 180 168 178 19...</td>\n",
       "    </tr>\n",
       "    <tr>\n",
       "      <th>2</th>\n",
       "      <td>65.057053</td>\n",
       "      <td>34.909642</td>\n",
       "      <td>30.903789</td>\n",
       "      <td>34.909642</td>\n",
       "      <td>59.412000</td>\n",
       "      <td>36.320968</td>\n",
       "      <td>70.984421</td>\n",
       "      <td>36.320968</td>\n",
       "      <td>37.678105</td>\n",
       "      <td>36.320968</td>\n",
       "      <td>...</td>\n",
       "      <td>53.538947</td>\n",
       "      <td>60.822947</td>\n",
       "      <td>73.014316</td>\n",
       "      <td>33.726316</td>\n",
       "      <td>72.732000</td>\n",
       "      <td>47.274947</td>\n",
       "      <td>70.191789</td>\n",
       "      <td>47.274947</td>\n",
       "      <td>78.659368</td>\n",
       "      <td>144 142 159 180 188 188 184 180 167 132 84 59 ...</td>\n",
       "    </tr>\n",
       "    <tr>\n",
       "      <th>3</th>\n",
       "      <td>65.225739</td>\n",
       "      <td>37.261774</td>\n",
       "      <td>32.023096</td>\n",
       "      <td>37.261774</td>\n",
       "      <td>60.003339</td>\n",
       "      <td>39.127179</td>\n",
       "      <td>72.314713</td>\n",
       "      <td>38.380967</td>\n",
       "      <td>37.618643</td>\n",
       "      <td>38.754115</td>\n",
       "      <td>...</td>\n",
       "      <td>54.166539</td>\n",
       "      <td>65.598887</td>\n",
       "      <td>72.703722</td>\n",
       "      <td>37.245496</td>\n",
       "      <td>74.195478</td>\n",
       "      <td>50.303165</td>\n",
       "      <td>70.091687</td>\n",
       "      <td>51.561183</td>\n",
       "      <td>78.268383</td>\n",
       "      <td>193 192 193 194 194 194 193 192 168 111 50 12 ...</td>\n",
       "    </tr>\n",
       "    <tr>\n",
       "      <th>4</th>\n",
       "      <td>66.725301</td>\n",
       "      <td>39.621261</td>\n",
       "      <td>32.244810</td>\n",
       "      <td>38.042032</td>\n",
       "      <td>58.565890</td>\n",
       "      <td>39.621261</td>\n",
       "      <td>72.515926</td>\n",
       "      <td>39.884466</td>\n",
       "      <td>36.982380</td>\n",
       "      <td>39.094852</td>\n",
       "      <td>...</td>\n",
       "      <td>64.889521</td>\n",
       "      <td>60.671411</td>\n",
       "      <td>77.523239</td>\n",
       "      <td>31.191755</td>\n",
       "      <td>76.997301</td>\n",
       "      <td>44.962748</td>\n",
       "      <td>73.707387</td>\n",
       "      <td>44.227141</td>\n",
       "      <td>86.871166</td>\n",
       "      <td>147 148 160 196 215 214 216 217 219 220 206 18...</td>\n",
       "    </tr>\n",
       "  </tbody>\n",
       "</table>\n",
       "<p>5 rows × 31 columns</p>\n",
       "</div>"
      ],
      "text/plain": [
       "   left_eye_center_x  left_eye_center_y  right_eye_center_x  \\\n",
       "0          66.033564          39.002274           30.227008   \n",
       "1          64.332936          34.970077           29.949277   \n",
       "2          65.057053          34.909642           30.903789   \n",
       "3          65.225739          37.261774           32.023096   \n",
       "4          66.725301          39.621261           32.244810   \n",
       "\n",
       "   right_eye_center_y  left_eye_inner_corner_x  left_eye_inner_corner_y  \\\n",
       "0           36.421678                59.582075                39.647423   \n",
       "1           33.448715                58.856170                35.274349   \n",
       "2           34.909642                59.412000                36.320968   \n",
       "3           37.261774                60.003339                39.127179   \n",
       "4           38.042032                58.565890                39.621261   \n",
       "\n",
       "   left_eye_outer_corner_x  left_eye_outer_corner_y  right_eye_inner_corner_x  \\\n",
       "0                73.130346                39.969997                 36.356571   \n",
       "1                70.722723                36.187166                 36.034723   \n",
       "2                70.984421                36.320968                 37.678105   \n",
       "3                72.314713                38.380967                 37.618643   \n",
       "4                72.515926                39.884466                 36.982380   \n",
       "\n",
       "   right_eye_inner_corner_y  ...  nose_tip_y  mouth_left_corner_x  \\\n",
       "0                 37.389402  ...   57.066803            61.195308   \n",
       "1                 34.361532  ...   55.660936            56.421447   \n",
       "2                 36.320968  ...   53.538947            60.822947   \n",
       "3                 38.754115  ...   54.166539            65.598887   \n",
       "4                 39.094852  ...   64.889521            60.671411   \n",
       "\n",
       "   mouth_left_corner_y  mouth_right_corner_x  mouth_right_corner_y  \\\n",
       "0            79.970165             28.614496             77.388992   \n",
       "1            76.352000             35.122383             76.047660   \n",
       "2            73.014316             33.726316             72.732000   \n",
       "3            72.703722             37.245496             74.195478   \n",
       "4            77.523239             31.191755             76.997301   \n",
       "\n",
       "   mouth_center_top_lip_x  mouth_center_top_lip_y  mouth_center_bottom_lip_x  \\\n",
       "0               43.312602               72.935459                  43.130707   \n",
       "1               46.684596               70.266553                  45.467915   \n",
       "2               47.274947               70.191789                  47.274947   \n",
       "3               50.303165               70.091687                  51.561183   \n",
       "4               44.962748               73.707387                  44.227141   \n",
       "\n",
       "   mouth_center_bottom_lip_y  \\\n",
       "0                  84.485774   \n",
       "1                  85.480170   \n",
       "2                  78.659368   \n",
       "3                  78.268383   \n",
       "4                  86.871166   \n",
       "\n",
       "                                               Image  \n",
       "0  238 236 237 238 240 240 239 241 241 243 240 23...  \n",
       "1  219 215 204 196 204 211 212 200 180 168 178 19...  \n",
       "2  144 142 159 180 188 188 184 180 167 132 84 59 ...  \n",
       "3  193 192 193 194 194 194 193 192 168 111 50 12 ...  \n",
       "4  147 148 160 196 215 214 216 217 219 220 206 18...  \n",
       "\n",
       "[5 rows x 31 columns]"
      ]
     },
     "metadata": {},
     "output_type": "display_data"
    }
   ],
   "source": [
    "display(train.head())"
   ]
  },
  {
   "cell_type": "code",
   "execution_count": 3,
   "id": "cabed0fa",
   "metadata": {
    "execution": {
     "iopub.execute_input": "2024-01-31T05:16:28.358304Z",
     "iopub.status.busy": "2024-01-31T05:16:28.357921Z",
     "iopub.status.idle": "2024-01-31T05:16:28.367573Z",
     "shell.execute_reply": "2024-01-31T05:16:28.366433Z"
    },
    "papermill": {
     "duration": 0.018076,
     "end_time": "2024-01-31T05:16:28.369871",
     "exception": false,
     "start_time": "2024-01-31T05:16:28.351795",
     "status": "completed"
    },
    "tags": []
   },
   "outputs": [
    {
     "data": {
      "text/html": [
       "<div>\n",
       "<style scoped>\n",
       "    .dataframe tbody tr th:only-of-type {\n",
       "        vertical-align: middle;\n",
       "    }\n",
       "\n",
       "    .dataframe tbody tr th {\n",
       "        vertical-align: top;\n",
       "    }\n",
       "\n",
       "    .dataframe thead th {\n",
       "        text-align: right;\n",
       "    }\n",
       "</style>\n",
       "<table border=\"1\" class=\"dataframe\">\n",
       "  <thead>\n",
       "    <tr style=\"text-align: right;\">\n",
       "      <th></th>\n",
       "      <th>ImageId</th>\n",
       "      <th>Image</th>\n",
       "    </tr>\n",
       "  </thead>\n",
       "  <tbody>\n",
       "    <tr>\n",
       "      <th>0</th>\n",
       "      <td>1</td>\n",
       "      <td>182 183 182 182 180 180 176 169 156 137 124 10...</td>\n",
       "    </tr>\n",
       "    <tr>\n",
       "      <th>1</th>\n",
       "      <td>2</td>\n",
       "      <td>76 87 81 72 65 59 64 76 69 42 31 38 49 58 58 4...</td>\n",
       "    </tr>\n",
       "    <tr>\n",
       "      <th>2</th>\n",
       "      <td>3</td>\n",
       "      <td>177 176 174 170 169 169 168 166 166 166 161 14...</td>\n",
       "    </tr>\n",
       "    <tr>\n",
       "      <th>3</th>\n",
       "      <td>4</td>\n",
       "      <td>176 174 174 175 174 174 176 176 175 171 165 15...</td>\n",
       "    </tr>\n",
       "    <tr>\n",
       "      <th>4</th>\n",
       "      <td>5</td>\n",
       "      <td>50 47 44 101 144 149 120 58 48 42 35 35 37 39 ...</td>\n",
       "    </tr>\n",
       "  </tbody>\n",
       "</table>\n",
       "</div>"
      ],
      "text/plain": [
       "   ImageId                                              Image\n",
       "0        1  182 183 182 182 180 180 176 169 156 137 124 10...\n",
       "1        2  76 87 81 72 65 59 64 76 69 42 31 38 49 58 58 4...\n",
       "2        3  177 176 174 170 169 169 168 166 166 166 161 14...\n",
       "3        4  176 174 174 175 174 174 176 176 175 171 165 15...\n",
       "4        5  50 47 44 101 144 149 120 58 48 42 35 35 37 39 ..."
      ]
     },
     "metadata": {},
     "output_type": "display_data"
    }
   ],
   "source": [
    "display(test.head())"
   ]
  },
  {
   "cell_type": "code",
   "execution_count": 4,
   "id": "d529f5ec",
   "metadata": {
    "execution": {
     "iopub.execute_input": "2024-01-31T05:16:28.382300Z",
     "iopub.status.busy": "2024-01-31T05:16:28.381974Z",
     "iopub.status.idle": "2024-01-31T05:16:28.393227Z",
     "shell.execute_reply": "2024-01-31T05:16:28.391938Z"
    },
    "papermill": {
     "duration": 0.019865,
     "end_time": "2024-01-31T05:16:28.395476",
     "exception": false,
     "start_time": "2024-01-31T05:16:28.375611",
     "status": "completed"
    },
    "tags": []
   },
   "outputs": [
    {
     "data": {
      "text/html": [
       "<div>\n",
       "<style scoped>\n",
       "    .dataframe tbody tr th:only-of-type {\n",
       "        vertical-align: middle;\n",
       "    }\n",
       "\n",
       "    .dataframe tbody tr th {\n",
       "        vertical-align: top;\n",
       "    }\n",
       "\n",
       "    .dataframe thead th {\n",
       "        text-align: right;\n",
       "    }\n",
       "</style>\n",
       "<table border=\"1\" class=\"dataframe\">\n",
       "  <thead>\n",
       "    <tr style=\"text-align: right;\">\n",
       "      <th></th>\n",
       "      <th>RowId</th>\n",
       "      <th>ImageId</th>\n",
       "      <th>FeatureName</th>\n",
       "      <th>Location</th>\n",
       "    </tr>\n",
       "  </thead>\n",
       "  <tbody>\n",
       "    <tr>\n",
       "      <th>0</th>\n",
       "      <td>1</td>\n",
       "      <td>1</td>\n",
       "      <td>left_eye_center_x</td>\n",
       "      <td>NaN</td>\n",
       "    </tr>\n",
       "    <tr>\n",
       "      <th>1</th>\n",
       "      <td>2</td>\n",
       "      <td>1</td>\n",
       "      <td>left_eye_center_y</td>\n",
       "      <td>NaN</td>\n",
       "    </tr>\n",
       "    <tr>\n",
       "      <th>2</th>\n",
       "      <td>3</td>\n",
       "      <td>1</td>\n",
       "      <td>right_eye_center_x</td>\n",
       "      <td>NaN</td>\n",
       "    </tr>\n",
       "    <tr>\n",
       "      <th>3</th>\n",
       "      <td>4</td>\n",
       "      <td>1</td>\n",
       "      <td>right_eye_center_y</td>\n",
       "      <td>NaN</td>\n",
       "    </tr>\n",
       "    <tr>\n",
       "      <th>4</th>\n",
       "      <td>5</td>\n",
       "      <td>1</td>\n",
       "      <td>left_eye_inner_corner_x</td>\n",
       "      <td>NaN</td>\n",
       "    </tr>\n",
       "  </tbody>\n",
       "</table>\n",
       "</div>"
      ],
      "text/plain": [
       "   RowId  ImageId              FeatureName  Location\n",
       "0      1        1        left_eye_center_x       NaN\n",
       "1      2        1        left_eye_center_y       NaN\n",
       "2      3        1       right_eye_center_x       NaN\n",
       "3      4        1       right_eye_center_y       NaN\n",
       "4      5        1  left_eye_inner_corner_x       NaN"
      ]
     },
     "metadata": {},
     "output_type": "display_data"
    }
   ],
   "source": [
    "display(id.head())"
   ]
  },
  {
   "cell_type": "code",
   "execution_count": 5,
   "id": "17569ae4",
   "metadata": {
    "execution": {
     "iopub.execute_input": "2024-01-31T05:16:28.408224Z",
     "iopub.status.busy": "2024-01-31T05:16:28.407398Z",
     "iopub.status.idle": "2024-01-31T05:16:28.420491Z",
     "shell.execute_reply": "2024-01-31T05:16:28.419059Z"
    },
    "papermill": {
     "duration": 0.022186,
     "end_time": "2024-01-31T05:16:28.422969",
     "exception": false,
     "start_time": "2024-01-31T05:16:28.400783",
     "status": "completed"
    },
    "tags": []
   },
   "outputs": [
    {
     "data": {
      "text/plain": [
       "left_eye_center_x              10\n",
       "left_eye_center_y              10\n",
       "right_eye_center_x             13\n",
       "right_eye_center_y             13\n",
       "left_eye_inner_corner_x      4778\n",
       "left_eye_inner_corner_y      4778\n",
       "left_eye_outer_corner_x      4782\n",
       "left_eye_outer_corner_y      4782\n",
       "right_eye_inner_corner_x     4781\n",
       "right_eye_inner_corner_y     4781\n",
       "right_eye_outer_corner_x     4781\n",
       "right_eye_outer_corner_y     4781\n",
       "left_eyebrow_inner_end_x     4779\n",
       "left_eyebrow_inner_end_y     4779\n",
       "left_eyebrow_outer_end_x     4824\n",
       "left_eyebrow_outer_end_y     4824\n",
       "right_eyebrow_inner_end_x    4779\n",
       "right_eyebrow_inner_end_y    4779\n",
       "right_eyebrow_outer_end_x    4813\n",
       "right_eyebrow_outer_end_y    4813\n",
       "nose_tip_x                      0\n",
       "nose_tip_y                      0\n",
       "mouth_left_corner_x          4780\n",
       "mouth_left_corner_y          4780\n",
       "mouth_right_corner_x         4779\n",
       "mouth_right_corner_y         4779\n",
       "mouth_center_top_lip_x       4774\n",
       "mouth_center_top_lip_y       4774\n",
       "mouth_center_bottom_lip_x      33\n",
       "mouth_center_bottom_lip_y      33\n",
       "Image                           0\n",
       "dtype: int64"
      ]
     },
     "execution_count": 5,
     "metadata": {},
     "output_type": "execute_result"
    }
   ],
   "source": [
    "train.isnull().sum()"
   ]
  },
  {
   "cell_type": "code",
   "execution_count": 6,
   "id": "e2b23833",
   "metadata": {
    "execution": {
     "iopub.execute_input": "2024-01-31T05:16:28.435450Z",
     "iopub.status.busy": "2024-01-31T05:16:28.435115Z",
     "iopub.status.idle": "2024-01-31T05:16:28.451861Z",
     "shell.execute_reply": "2024-01-31T05:16:28.450714Z"
    },
    "papermill": {
     "duration": 0.025253,
     "end_time": "2024-01-31T05:16:28.453705",
     "exception": false,
     "start_time": "2024-01-31T05:16:28.428452",
     "status": "completed"
    },
    "tags": []
   },
   "outputs": [
    {
     "name": "stderr",
     "output_type": "stream",
     "text": [
      "/tmp/ipykernel_19/2125910151.py:1: FutureWarning: DataFrame.fillna with 'method' is deprecated and will raise in a future version. Use obj.ffill() or obj.bfill() instead.\n",
      "  train.fillna(method='ffill', inplace=True)\n"
     ]
    },
    {
     "data": {
      "text/plain": [
       "left_eye_center_x            0\n",
       "left_eye_center_y            0\n",
       "right_eye_center_x           0\n",
       "right_eye_center_y           0\n",
       "left_eye_inner_corner_x      0\n",
       "left_eye_inner_corner_y      0\n",
       "left_eye_outer_corner_x      0\n",
       "left_eye_outer_corner_y      0\n",
       "right_eye_inner_corner_x     0\n",
       "right_eye_inner_corner_y     0\n",
       "right_eye_outer_corner_x     0\n",
       "right_eye_outer_corner_y     0\n",
       "left_eyebrow_inner_end_x     0\n",
       "left_eyebrow_inner_end_y     0\n",
       "left_eyebrow_outer_end_x     0\n",
       "left_eyebrow_outer_end_y     0\n",
       "right_eyebrow_inner_end_x    0\n",
       "right_eyebrow_inner_end_y    0\n",
       "right_eyebrow_outer_end_x    0\n",
       "right_eyebrow_outer_end_y    0\n",
       "nose_tip_x                   0\n",
       "nose_tip_y                   0\n",
       "mouth_left_corner_x          0\n",
       "mouth_left_corner_y          0\n",
       "mouth_right_corner_x         0\n",
       "mouth_right_corner_y         0\n",
       "mouth_center_top_lip_x       0\n",
       "mouth_center_top_lip_y       0\n",
       "mouth_center_bottom_lip_x    0\n",
       "mouth_center_bottom_lip_y    0\n",
       "Image                        0\n",
       "dtype: int64"
      ]
     },
     "execution_count": 6,
     "metadata": {},
     "output_type": "execute_result"
    }
   ],
   "source": [
    "train.fillna(method='ffill', inplace=True)\n",
    "train.isnull().sum()"
   ]
  },
  {
   "cell_type": "code",
   "execution_count": 7,
   "id": "adf3c655",
   "metadata": {
    "execution": {
     "iopub.execute_input": "2024-01-31T05:16:28.468283Z",
     "iopub.status.busy": "2024-01-31T05:16:28.467724Z",
     "iopub.status.idle": "2024-01-31T05:16:28.473284Z",
     "shell.execute_reply": "2024-01-31T05:16:28.471460Z"
    },
    "papermill": {
     "duration": 0.015204,
     "end_time": "2024-01-31T05:16:28.475587",
     "exception": false,
     "start_time": "2024-01-31T05:16:28.460383",
     "status": "completed"
    },
    "tags": []
   },
   "outputs": [
    {
     "name": "stdout",
     "output_type": "stream",
     "text": [
      "7049 \t 31\n"
     ]
    }
   ],
   "source": [
    "m,n = train.shape\n",
    "print(m, '\\t', n)"
   ]
  },
  {
   "cell_type": "code",
   "execution_count": 8,
   "id": "81170a2b",
   "metadata": {
    "execution": {
     "iopub.execute_input": "2024-01-31T05:16:28.489734Z",
     "iopub.status.busy": "2024-01-31T05:16:28.487899Z",
     "iopub.status.idle": "2024-01-31T05:16:28.495132Z",
     "shell.execute_reply": "2024-01-31T05:16:28.494182Z"
    },
    "papermill": {
     "duration": 0.015518,
     "end_time": "2024-01-31T05:16:28.496808",
     "exception": false,
     "start_time": "2024-01-31T05:16:28.481290",
     "status": "completed"
    },
    "tags": []
   },
   "outputs": [
    {
     "data": {
      "text/plain": [
       "(1783, 2)"
      ]
     },
     "execution_count": 8,
     "metadata": {},
     "output_type": "execute_result"
    }
   ],
   "source": [
    "test.shape"
   ]
  },
  {
   "cell_type": "code",
   "execution_count": 9,
   "id": "ca5f5882",
   "metadata": {
    "execution": {
     "iopub.execute_input": "2024-01-31T05:16:28.509814Z",
     "iopub.status.busy": "2024-01-31T05:16:28.509248Z",
     "iopub.status.idle": "2024-01-31T05:16:37.090309Z",
     "shell.execute_reply": "2024-01-31T05:16:37.088933Z"
    },
    "papermill": {
     "duration": 8.590288,
     "end_time": "2024-01-31T05:16:37.092766",
     "exception": false,
     "start_time": "2024-01-31T05:16:28.502478",
     "status": "completed"
    },
    "tags": []
   },
   "outputs": [],
   "source": [
    "img = []\n",
    "img_size = 96\n",
    "for i in range(m):\n",
    "    spliting = np.array(train['Image'][i].split(' '),dtype = 'float64')\n",
    "    splitting = np.reshape(spliting,(img_size,img_size,1))\n",
    "    splitting /= 255 \n",
    "    img.append(splitting)\n",
    "img = np.array(img)"
   ]
  },
  {
   "cell_type": "code",
   "execution_count": 10,
   "id": "29cc7e36",
   "metadata": {
    "execution": {
     "iopub.execute_input": "2024-01-31T05:16:37.105989Z",
     "iopub.status.busy": "2024-01-31T05:16:37.105609Z",
     "iopub.status.idle": "2024-01-31T05:16:37.422934Z",
     "shell.execute_reply": "2024-01-31T05:16:37.421557Z"
    },
    "papermill": {
     "duration": 0.326538,
     "end_time": "2024-01-31T05:16:37.425242",
     "exception": false,
     "start_time": "2024-01-31T05:16:37.098704",
     "status": "completed"
    },
    "tags": []
   },
   "outputs": [],
   "source": [
    "X_train = img\n",
    "train.drop('Image', axis = 1, inplace = True)\n",
    "y_train = []\n",
    "\n",
    "for i in range(len(train)):\n",
    "    y = train.iloc[i,:].values\n",
    "    y_train.append(y)\n",
    "    \n",
    "    \n",
    "y_train= np.array(y_train, dtype = 'float')"
   ]
  },
  {
   "cell_type": "code",
   "execution_count": 11,
   "id": "60c22d37",
   "metadata": {
    "execution": {
     "iopub.execute_input": "2024-01-31T05:16:37.440062Z",
     "iopub.status.busy": "2024-01-31T05:16:37.439653Z",
     "iopub.status.idle": "2024-01-31T05:16:37.708446Z",
     "shell.execute_reply": "2024-01-31T05:16:37.706945Z"
    },
    "papermill": {
     "duration": 0.279432,
     "end_time": "2024-01-31T05:16:37.710913",
     "exception": false,
     "start_time": "2024-01-31T05:16:37.431481",
     "status": "completed"
    },
    "tags": []
   },
   "outputs": [],
   "source": [
    "model = Sequential([\n",
    "    Conv2D(128, (3, 3),strides=1,activation='relu',padding = 'same', input_shape=(96, 96, 1)),\n",
    "    BatchNormalization(),\n",
    "    MaxPooling2D((2, 2)),\n",
    "    Conv2D(128, (3, 3), strides=1,activation='relu',padding = 'same'),\n",
    "    Dropout(0.1),\n",
    "    BatchNormalization(),\n",
    "    MaxPooling2D((2, 2)),\n",
    "    Conv2D(64, (3, 3), strides=1,activation='relu',padding = 'same'),\n",
    "    Dropout(0.2),\n",
    "    BatchNormalization(),\n",
    "    MaxPooling2D((2, 2)),\n",
    "    Conv2D(256, (3, 3), strides=1,activation='relu',padding = 'same'),\n",
    "    MaxPooling2D((2, 2)),\n",
    "    Flatten(),\n",
    "    Dense(512, activation='relu'),\n",
    "    Dropout(0.1),\n",
    "    Dense(256, activation='relu'),\n",
    "    Dropout(0.1),\n",
    "    Dense(128, activation='relu'),\n",
    "    Dense(30)\n",
    "])"
   ]
  },
  {
   "cell_type": "code",
   "execution_count": 12,
   "id": "7a036f1e",
   "metadata": {
    "execution": {
     "iopub.execute_input": "2024-01-31T05:16:37.724801Z",
     "iopub.status.busy": "2024-01-31T05:16:37.724465Z",
     "iopub.status.idle": "2024-01-31T05:16:37.744493Z",
     "shell.execute_reply": "2024-01-31T05:16:37.743305Z"
    },
    "papermill": {
     "duration": 0.029895,
     "end_time": "2024-01-31T05:16:37.746794",
     "exception": false,
     "start_time": "2024-01-31T05:16:37.716899",
     "status": "completed"
    },
    "tags": []
   },
   "outputs": [],
   "source": [
    "optimizer = Adam(learning_rate=0.001)\n",
    "model.compile(optimizer=optimizer, loss='mae',metrics = ['accuracy'])"
   ]
  },
  {
   "cell_type": "code",
   "execution_count": 13,
   "id": "223d65c0",
   "metadata": {
    "execution": {
     "iopub.execute_input": "2024-01-31T05:16:37.759976Z",
     "iopub.status.busy": "2024-01-31T05:16:37.759594Z",
     "iopub.status.idle": "2024-01-31T05:23:01.781253Z",
     "shell.execute_reply": "2024-01-31T05:23:01.779977Z"
    },
    "papermill": {
     "duration": 384.030869,
     "end_time": "2024-01-31T05:23:01.783431",
     "exception": false,
     "start_time": "2024-01-31T05:16:37.752562",
     "status": "completed"
    },
    "tags": []
   },
   "outputs": [
    {
     "name": "stdout",
     "output_type": "stream",
     "text": [
      "Epoch 1/2\n",
      "177/177 [==============================] - 184s 1s/step - loss: 6.0454 - accuracy: 0.4293 - val_loss: 17.4484 - val_accuracy: 0.6872\n",
      "Epoch 2/2\n",
      "177/177 [==============================] - 181s 1s/step - loss: 4.0618 - accuracy: 0.5313 - val_loss: 12.3669 - val_accuracy: 0.5184\n"
     ]
    }
   ],
   "source": [
    "history = model.fit(X_train.reshape(-1, 96, 96, 1), y_train, epochs=2, batch_size=32,validation_split=0.2)"
   ]
  },
  {
   "cell_type": "code",
   "execution_count": 14,
   "id": "00db12f1",
   "metadata": {
    "execution": {
     "iopub.execute_input": "2024-01-31T05:23:01.839662Z",
     "iopub.status.busy": "2024-01-31T05:23:01.838999Z",
     "iopub.status.idle": "2024-01-31T05:23:16.669770Z",
     "shell.execute_reply": "2024-01-31T05:23:16.668199Z"
    },
    "papermill": {
     "duration": 14.862556,
     "end_time": "2024-01-31T05:23:16.672693",
     "exception": false,
     "start_time": "2024-01-31T05:23:01.810137",
     "status": "completed"
    },
    "tags": []
   },
   "outputs": [
    {
     "name": "stdout",
     "output_type": "stream",
     "text": [
      "56/56 [==============================] - 14s 253ms/step\n"
     ]
    }
   ],
   "source": [
    "X_test = np.array([np.fromstring(x, dtype=int, sep=' ') for x in test['Image']])\n",
    "X_test = X_test.reshape(-1, 96, 96, 1) / 255.0\n",
    "\n",
    "y_test_pred = model.predict(X_test)"
   ]
  },
  {
   "cell_type": "code",
   "execution_count": 15,
   "id": "16e44ba4",
   "metadata": {
    "execution": {
     "iopub.execute_input": "2024-01-31T05:23:16.733819Z",
     "iopub.status.busy": "2024-01-31T05:23:16.733466Z",
     "iopub.status.idle": "2024-01-31T05:23:16.741663Z",
     "shell.execute_reply": "2024-01-31T05:23:16.740808Z"
    },
    "papermill": {
     "duration": 0.040713,
     "end_time": "2024-01-31T05:23:16.743387",
     "exception": false,
     "start_time": "2024-01-31T05:23:16.702674",
     "status": "completed"
    },
    "tags": []
   },
   "outputs": [
    {
     "data": {
      "text/plain": [
       "array([[49.09755 , 27.50808 , 21.030262, ..., 55.39599 , 35.366455,\n",
       "        58.661934],\n",
       "       [48.59891 , 27.13123 , 20.830135, ..., 54.860237, 35.07116 ,\n",
       "        58.107704],\n",
       "       [50.63874 , 28.200516, 21.85893 , ..., 56.962673, 36.794632,\n",
       "        60.24247 ],\n",
       "       ...,\n",
       "       [50.816498, 28.332445, 21.813023, ..., 57.094173, 37.148582,\n",
       "        60.19443 ],\n",
       "       [49.524216, 27.622957, 21.070314, ..., 55.75828 , 35.71714 ,\n",
       "        58.860695],\n",
       "       [49.97808 , 27.766216, 21.246826, ..., 56.265903, 35.981686,\n",
       "        59.45563 ]], dtype=float32)"
      ]
     },
     "execution_count": 15,
     "metadata": {},
     "output_type": "execute_result"
    }
   ],
   "source": [
    "y_test_pred"
   ]
  },
  {
   "cell_type": "code",
   "execution_count": 16,
   "id": "475db392",
   "metadata": {
    "execution": {
     "iopub.execute_input": "2024-01-31T05:23:16.804565Z",
     "iopub.status.busy": "2024-01-31T05:23:16.804216Z",
     "iopub.status.idle": "2024-01-31T05:23:18.959606Z",
     "shell.execute_reply": "2024-01-31T05:23:18.958489Z"
    },
    "papermill": {
     "duration": 2.189444,
     "end_time": "2024-01-31T05:23:18.962403",
     "exception": false,
     "start_time": "2024-01-31T05:23:16.772959",
     "status": "completed"
    },
    "tags": []
   },
   "outputs": [],
   "source": [
    "test_images = []\n",
    "for i in range(len(test)):\n",
    "    item = np.array(test['Image'][i].split(' '), dtype='float')\n",
    "    item = np.reshape(item, (img_size, img_size, 1))\n",
    "    item /= 255\n",
    "    test_images.append(item)\n",
    "    \n",
    "test_images = np.array(test_images, dtype='float')"
   ]
  },
  {
   "cell_type": "code",
   "execution_count": 17,
   "id": "7def321c",
   "metadata": {
    "execution": {
     "iopub.execute_input": "2024-01-31T05:23:19.024005Z",
     "iopub.status.busy": "2024-01-31T05:23:19.023622Z",
     "iopub.status.idle": "2024-01-31T05:23:33.139539Z",
     "shell.execute_reply": "2024-01-31T05:23:33.138713Z"
    },
    "papermill": {
     "duration": 14.14961,
     "end_time": "2024-01-31T05:23:33.141963",
     "exception": false,
     "start_time": "2024-01-31T05:23:18.992353",
     "status": "completed"
    },
    "tags": []
   },
   "outputs": [
    {
     "name": "stdout",
     "output_type": "stream",
     "text": [
      "56/56 [==============================] - 14s 249ms/step\n"
     ]
    }
   ],
   "source": [
    "predict = model.predict(test_images)"
   ]
  },
  {
   "cell_type": "code",
   "execution_count": 18,
   "id": "1f16b91e",
   "metadata": {
    "execution": {
     "iopub.execute_input": "2024-01-31T05:23:33.209819Z",
     "iopub.status.busy": "2024-01-31T05:23:33.209028Z",
     "iopub.status.idle": "2024-01-31T05:23:33.233400Z",
     "shell.execute_reply": "2024-01-31T05:23:33.232395Z"
    },
    "papermill": {
     "duration": 0.06057,
     "end_time": "2024-01-31T05:23:33.235690",
     "exception": false,
     "start_time": "2024-01-31T05:23:33.175120",
     "status": "completed"
    },
    "tags": []
   },
   "outputs": [],
   "source": [
    "feature_names = list(id['FeatureName'])\n",
    "image_ids = list(id['ImageId']-1)\n",
    "row_ids = list(id['RowId'])\n",
    "\n",
    "feature_list = []\n",
    "for feature in feature_names:\n",
    "    feature_list.append(feature_names.index(feature))"
   ]
  },
  {
   "cell_type": "code",
   "execution_count": 19,
   "id": "c5d79e78",
   "metadata": {
    "execution": {
     "iopub.execute_input": "2024-01-31T05:23:33.361279Z",
     "iopub.status.busy": "2024-01-31T05:23:33.360910Z",
     "iopub.status.idle": "2024-01-31T05:23:33.378705Z",
     "shell.execute_reply": "2024-01-31T05:23:33.377268Z"
    },
    "papermill": {
     "duration": 0.111768,
     "end_time": "2024-01-31T05:23:33.381017",
     "exception": false,
     "start_time": "2024-01-31T05:23:33.269249",
     "status": "completed"
    },
    "tags": []
   },
   "outputs": [],
   "source": [
    "predictions = []\n",
    "for x,y in zip(image_ids, feature_list):\n",
    "    predictions.append(predict[x][y])\n",
    "    "
   ]
  },
  {
   "cell_type": "code",
   "execution_count": 20,
   "id": "485d7927",
   "metadata": {
    "execution": {
     "iopub.execute_input": "2024-01-31T05:23:33.449763Z",
     "iopub.status.busy": "2024-01-31T05:23:33.449416Z",
     "iopub.status.idle": "2024-01-31T05:23:33.501134Z",
     "shell.execute_reply": "2024-01-31T05:23:33.499915Z"
    },
    "papermill": {
     "duration": 0.089489,
     "end_time": "2024-01-31T05:23:33.503904",
     "exception": false,
     "start_time": "2024-01-31T05:23:33.414415",
     "status": "completed"
    },
    "tags": []
   },
   "outputs": [],
   "source": [
    "row_ids = pd.Series(row_ids, name = 'RowId')\n",
    "locations = pd.Series(predictions, name = 'Location')\n",
    "locations = locations.clip(0.0,96.0)\n",
    "submission_result = pd.concat([row_ids,locations],axis = 1)\n",
    "submission_result.to_csv('s.csv',index = False)"
   ]
  }
 ],
 "metadata": {
  "kaggle": {
   "accelerator": "none",
   "dataSources": [
    {
     "databundleVersionId": 31310,
     "sourceId": 3486,
     "sourceType": "competition"
    }
   ],
   "dockerImageVersionId": 30646,
   "isGpuEnabled": false,
   "isInternetEnabled": true,
   "language": "python",
   "sourceType": "notebook"
  },
  "kernelspec": {
   "display_name": "Python 3",
   "language": "python",
   "name": "python3"
  },
  "language_info": {
   "codemirror_mode": {
    "name": "ipython",
    "version": 3
   },
   "file_extension": ".py",
   "mimetype": "text/x-python",
   "name": "python",
   "nbconvert_exporter": "python",
   "pygments_lexer": "ipython3",
   "version": "3.11.5"
  },
  "papermill": {
   "default_parameters": {},
   "duration": 449.162913,
   "end_time": "2024-01-31T05:23:35.824753",
   "environment_variables": {},
   "exception": null,
   "input_path": "__notebook__.ipynb",
   "output_path": "__notebook__.ipynb",
   "parameters": {},
   "start_time": "2024-01-31T05:16:06.661840",
   "version": "2.5.0"
  }
 },
 "nbformat": 4,
 "nbformat_minor": 5
}
